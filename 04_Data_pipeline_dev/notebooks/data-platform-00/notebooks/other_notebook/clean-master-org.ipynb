{
 "cells": [
  {
   "cell_type": "code",
   "execution_count": 9,
   "id": "af0da9df-8f29-41be-95de-6fefdacb4fcf",
   "metadata": {
    "tags": []
   },
   "outputs": [],
   "source": [
    "import s3fs\n",
    "import dask.dataframe as dd"
   ]
  },
  {
   "cell_type": "code",
   "execution_count": 10,
   "id": "d93d3814-7ebe-4a4d-b638-ff4e87c30384",
   "metadata": {
    "tags": []
   },
   "outputs": [
    {
     "data": {
      "text/plain": [
       "<s3fs.core.S3FileSystem at 0xffff5e530af0>"
      ]
     },
     "execution_count": 10,
     "metadata": {},
     "output_type": "execute_result"
    }
   ],
   "source": [
    "bucket = s3fs.S3FileSystem(\n",
    "    endpoint_url=\"https://storage.googleapis.com\", \n",
    "    key=\"GOOGQWNEOC2CQBAQL256MLSL\", \n",
    "    secret=\"KcUvYY32vLy/qj5GVdQkINY7831N01dJp7zaJSSw\",\n",
    "    anon=False,\n",
    "    use_listings_cache=False,\n",
    "    default_fill_cache=False,\n",
    ")\n",
    "bucket"
   ]
  },
  {
   "cell_type": "code",
   "execution_count": 11,
   "id": "1fc08f89-697c-445a-a844-962dd1c5fcb7",
   "metadata": {
    "tags": []
   },
   "outputs": [
    {
     "data": {
      "text/plain": [
       "[{'Key': 'backup-data-titan/masterdata/country_nationality_list',\n",
       "  'Size': 0,\n",
       "  'StorageClass': 'DIRECTORY',\n",
       "  'type': 'directory',\n",
       "  'size': 0,\n",
       "  'name': 'backup-data-titan/masterdata/country_nationality_list'},\n",
       " {'Key': 'backup-data-titan/masterdata/dbd',\n",
       "  'Size': 0,\n",
       "  'StorageClass': 'DIRECTORY',\n",
       "  'type': 'directory',\n",
       "  'size': 0,\n",
       "  'name': 'backup-data-titan/masterdata/dbd'},\n",
       " {'Key': 'backup-data-titan/masterdata/hs_code',\n",
       "  'Size': 0,\n",
       "  'StorageClass': 'DIRECTORY',\n",
       "  'type': 'directory',\n",
       "  'size': 0,\n",
       "  'name': 'backup-data-titan/masterdata/hs_code'}]"
      ]
     },
     "execution_count": 11,
     "metadata": {},
     "output_type": "execute_result"
    }
   ],
   "source": [
    "bucket.listdir('backup-data-titan/masterdata')"
   ]
  },
  {
   "cell_type": "code",
   "execution_count": 14,
   "id": "39c1f114-e08e-4a95-84f3-9fc2c197d01b",
   "metadata": {
    "tags": []
   },
   "outputs": [
    {
     "data": {
      "text/html": [
       "<div><strong>Dask DataFrame Structure:</strong></div>\n",
       "<div>\n",
       "<style scoped>\n",
       "    .dataframe tbody tr th:only-of-type {\n",
       "        vertical-align: middle;\n",
       "    }\n",
       "\n",
       "    .dataframe tbody tr th {\n",
       "        vertical-align: top;\n",
       "    }\n",
       "\n",
       "    .dataframe thead th {\n",
       "        text-align: right;\n",
       "    }\n",
       "</style>\n",
       "<table border=\"1\" class=\"dataframe\">\n",
       "  <thead>\n",
       "    <tr style=\"text-align: right;\">\n",
       "      <th></th>\n",
       "      <th>num_code</th>\n",
       "      <th>alpha_2_code</th>\n",
       "      <th>alpha_3_code</th>\n",
       "      <th>en_short_name</th>\n",
       "      <th>nationality</th>\n",
       "    </tr>\n",
       "    <tr>\n",
       "      <th>npartitions=1</th>\n",
       "      <th></th>\n",
       "      <th></th>\n",
       "      <th></th>\n",
       "      <th></th>\n",
       "      <th></th>\n",
       "    </tr>\n",
       "  </thead>\n",
       "  <tbody>\n",
       "    <tr>\n",
       "      <th></th>\n",
       "      <td>string</td>\n",
       "      <td>string</td>\n",
       "      <td>string</td>\n",
       "      <td>string</td>\n",
       "      <td>string</td>\n",
       "    </tr>\n",
       "    <tr>\n",
       "      <th></th>\n",
       "      <td>...</td>\n",
       "      <td>...</td>\n",
       "      <td>...</td>\n",
       "      <td>...</td>\n",
       "      <td>...</td>\n",
       "    </tr>\n",
       "  </tbody>\n",
       "</table>\n",
       "</div>\n",
       "<div>Dask Name: read-parquet, 1 graph layer</div>"
      ],
      "text/plain": [
       "Dask DataFrame Structure:\n",
       "              num_code alpha_2_code alpha_3_code en_short_name nationality\n",
       "npartitions=1                                                             \n",
       "                string       string       string        string      string\n",
       "                   ...          ...          ...           ...         ...\n",
       "Dask Name: read-parquet, 1 graph layer"
      ]
     },
     "execution_count": 14,
     "metadata": {},
     "output_type": "execute_result"
    }
   ],
   "source": [
    "ddf = dd.read_parquet('backup-data-titan/masterdata/country_nationality_list/**/*.parquet', filesystem=bucket)\n",
    "#ddf2 = ddf[[\"tax_no\",\"province\",\"address\",\"list_committee\",\"register_date\"]]\n",
    "ddf"
   ]
  },
  {
   "cell_type": "code",
   "execution_count": 7,
   "id": "f595e0a8-f100-4af7-a97e-57a63e2321b6",
   "metadata": {
    "tags": []
   },
   "outputs": [
    {
     "data": {
      "text/html": [
       "<div>\n",
       "<style scoped>\n",
       "    .dataframe tbody tr th:only-of-type {\n",
       "        vertical-align: middle;\n",
       "    }\n",
       "\n",
       "    .dataframe tbody tr th {\n",
       "        vertical-align: top;\n",
       "    }\n",
       "\n",
       "    .dataframe thead th {\n",
       "        text-align: right;\n",
       "    }\n",
       "</style>\n",
       "<table border=\"1\" class=\"dataframe\">\n",
       "  <thead>\n",
       "    <tr style=\"text-align: right;\">\n",
       "      <th></th>\n",
       "      <th>tax_no</th>\n",
       "      <th>province</th>\n",
       "      <th>address</th>\n",
       "      <th>list_committee</th>\n",
       "      <th>register_date</th>\n",
       "    </tr>\n",
       "  </thead>\n",
       "  <tbody>\n",
       "    <tr>\n",
       "      <th>0</th>\n",
       "      <td>0845565014266</td>\n",
       "      <td>สุราษฎร์ธานี</td>\n",
       "      <td>151/10  หมู่ที่ 1 ตำบล เกาะพะงัน อำเภอ เกาะพะง...</td>\n",
       "      <td>&lt;NA&gt;</td>\n",
       "      <td>2022-10-18</td>\n",
       "    </tr>\n",
       "    <tr>\n",
       "      <th>1</th>\n",
       "      <td>0335561000117</td>\n",
       "      <td>ศรีสะเกษ</td>\n",
       "      <td>1502/15  ถนนขุขันธ์ ตำบล เมืองใต้ อำเภอ เมืองศ...</td>\n",
       "      <td>&lt;NA&gt;</td>\n",
       "      <td>2018-03-08</td>\n",
       "    </tr>\n",
       "    <tr>\n",
       "      <th>2</th>\n",
       "      <td>0335561000257</td>\n",
       "      <td>ศรีสะเกษ</td>\n",
       "      <td>728  หมู่บ้าน ราษฎร์พัฒนา หมู่ที่ 5 ถนนสินประด...</td>\n",
       "      <td>&lt;NA&gt;</td>\n",
       "      <td>2018-04-23</td>\n",
       "    </tr>\n",
       "    <tr>\n",
       "      <th>3</th>\n",
       "      <td>0335561000249</td>\n",
       "      <td>ศรีสะเกษ</td>\n",
       "      <td>375  หมู่บ้าน หนองกิโล หมู่ที่ 2 ตำบล หนองครก ...</td>\n",
       "      <td>&lt;NA&gt;</td>\n",
       "      <td>2018-04-18</td>\n",
       "    </tr>\n",
       "    <tr>\n",
       "      <th>4</th>\n",
       "      <td>0335561000231</td>\n",
       "      <td>ศรีสะเกษ</td>\n",
       "      <td>81  หมู่ที่ 2 ตำบล ห้วยสำราญ อำเภอ ขุขันธ์ จัง...</td>\n",
       "      <td>&lt;NA&gt;</td>\n",
       "      <td>2018-04-10</td>\n",
       "    </tr>\n",
       "    <tr>\n",
       "      <th>...</th>\n",
       "      <td>...</td>\n",
       "      <td>...</td>\n",
       "      <td>...</td>\n",
       "      <td>...</td>\n",
       "      <td>...</td>\n",
       "    </tr>\n",
       "    <tr>\n",
       "      <th>971127</th>\n",
       "      <td>0125552017047</td>\n",
       "      <td>นนทบุรี</td>\n",
       "      <td>สำนักงานใหญ่ บ้านเลขที่ 111/25 หมู่ที่ 2 ซอย ...</td>\n",
       "      <td>&lt;NA&gt;</td>\n",
       "      <td>2009-12-04</td>\n",
       "    </tr>\n",
       "    <tr>\n",
       "      <th>971128</th>\n",
       "      <td>0105559008311</td>\n",
       "      <td>กรุงเทพมหานคร</td>\n",
       "      <td>สำนักงานใหญ่ อาคาร จัตุรัสจามจุรี ห้องTT08 ชั...</td>\n",
       "      <td>&lt;NA&gt;</td>\n",
       "      <td>2016-01-15</td>\n",
       "    </tr>\n",
       "    <tr>\n",
       "      <th>971129</th>\n",
       "      <td>0105563094790</td>\n",
       "      <td>กรุงเทพมหานคร</td>\n",
       "      <td>สำนักงานใหญ่ บ้านเลขที่ 214 ซอย ซอยผาสุก ตำบล...</td>\n",
       "      <td>&lt;NA&gt;</td>\n",
       "      <td>2020-06-29</td>\n",
       "    </tr>\n",
       "    <tr>\n",
       "      <th>971130</th>\n",
       "      <td>0903557002421</td>\n",
       "      <td>สงขลา</td>\n",
       "      <td>สำนักงานใหญ่ บ้านเลขที่ 36/13 หมู่ที่ 4 ตำบล ...</td>\n",
       "      <td>&lt;NA&gt;</td>\n",
       "      <td>2014-09-22</td>\n",
       "    </tr>\n",
       "    <tr>\n",
       "      <th>971131</th>\n",
       "      <td>0415559003031</td>\n",
       "      <td>อุดรธานี</td>\n",
       "      <td>สำนักงานใหญ่ บ้านเลขที่ 25 หมู่ที่ 10 ตำบล บ้...</td>\n",
       "      <td>&lt;NA&gt;</td>\n",
       "      <td>2016-12-14</td>\n",
       "    </tr>\n",
       "  </tbody>\n",
       "</table>\n",
       "<p>971132 rows × 5 columns</p>\n",
       "</div>"
      ],
      "text/plain": [
       "               tax_no       province  \\\n",
       "0       0845565014266   สุราษฎร์ธานี   \n",
       "1       0335561000117       ศรีสะเกษ   \n",
       "2       0335561000257       ศรีสะเกษ   \n",
       "3       0335561000249       ศรีสะเกษ   \n",
       "4       0335561000231       ศรีสะเกษ   \n",
       "...               ...            ...   \n",
       "971127  0125552017047        นนทบุรี   \n",
       "971128  0105559008311  กรุงเทพมหานคร   \n",
       "971129  0105563094790  กรุงเทพมหานคร   \n",
       "971130  0903557002421          สงขลา   \n",
       "971131  0415559003031       อุดรธานี   \n",
       "\n",
       "                                                  address list_committee  \\\n",
       "0       151/10  หมู่ที่ 1 ตำบล เกาะพะงัน อำเภอ เกาะพะง...           <NA>   \n",
       "1       1502/15  ถนนขุขันธ์ ตำบล เมืองใต้ อำเภอ เมืองศ...           <NA>   \n",
       "2       728  หมู่บ้าน ราษฎร์พัฒนา หมู่ที่ 5 ถนนสินประด...           <NA>   \n",
       "3       375  หมู่บ้าน หนองกิโล หมู่ที่ 2 ตำบล หนองครก ...           <NA>   \n",
       "4       81  หมู่ที่ 2 ตำบล ห้วยสำราญ อำเภอ ขุขันธ์ จัง...           <NA>   \n",
       "...                                                   ...            ...   \n",
       "971127   สำนักงานใหญ่ บ้านเลขที่ 111/25 หมู่ที่ 2 ซอย ...           <NA>   \n",
       "971128   สำนักงานใหญ่ อาคาร จัตุรัสจามจุรี ห้องTT08 ชั...           <NA>   \n",
       "971129   สำนักงานใหญ่ บ้านเลขที่ 214 ซอย ซอยผาสุก ตำบล...           <NA>   \n",
       "971130   สำนักงานใหญ่ บ้านเลขที่ 36/13 หมู่ที่ 4 ตำบล ...           <NA>   \n",
       "971131   สำนักงานใหญ่ บ้านเลขที่ 25 หมู่ที่ 10 ตำบล บ้...           <NA>   \n",
       "\n",
       "       register_date  \n",
       "0         2022-10-18  \n",
       "1         2018-03-08  \n",
       "2         2018-04-23  \n",
       "3         2018-04-18  \n",
       "4         2018-04-10  \n",
       "...              ...  \n",
       "971127    2009-12-04  \n",
       "971128    2016-01-15  \n",
       "971129    2020-06-29  \n",
       "971130    2014-09-22  \n",
       "971131    2016-12-14  \n",
       "\n",
       "[971132 rows x 5 columns]"
      ]
     },
     "execution_count": 7,
     "metadata": {},
     "output_type": "execute_result"
    }
   ],
   "source": [
    "df = ddf2.compute()\n",
    "df"
   ]
  },
  {
   "cell_type": "code",
   "execution_count": 8,
   "id": "c1b602e3-e0cd-4e0c-8e89-13d752515e5c",
   "metadata": {
    "tags": []
   },
   "outputs": [],
   "source": [
    "df.to_parquet(\"test_case.parquet\")"
   ]
  },
  {
   "cell_type": "code",
   "execution_count": null,
   "id": "a0599727-04e6-45de-9baa-49d12aef3b21",
   "metadata": {},
   "outputs": [],
   "source": []
  }
 ],
 "metadata": {
  "kernelspec": {
   "display_name": "Python 3 (ipykernel)",
   "language": "python",
   "name": "python3"
  },
  "language_info": {
   "codemirror_mode": {
    "name": "ipython",
    "version": 3
   },
   "file_extension": ".py",
   "mimetype": "text/x-python",
   "name": "python",
   "nbconvert_exporter": "python",
   "pygments_lexer": "ipython3",
   "version": "3.10.10"
  }
 },
 "nbformat": 4,
 "nbformat_minor": 5
}
