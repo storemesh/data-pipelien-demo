{
 "cells": [
  {
   "cell_type": "markdown",
   "id": "331e2c57-6b81-4102-8cc5-ce3de547f0d8",
   "metadata": {},
   "source": [
    "# practices simple landing data from data-source to landing_zone"
   ]
  },
  {
   "cell_type": "markdown",
   "id": "228da1c0-b53a-4c1d-b7fa-84cc243f6247",
   "metadata": {},
   "source": [
    "## import library"
   ]
  },
  {
   "cell_type": "code",
   "execution_count": 1,
   "id": "66ab2284-a1ff-44f5-8c2c-fa200a9a7ff4",
   "metadata": {
    "tags": []
   },
   "outputs": [],
   "source": [
    "import dask.dataframe as dd\n",
    "import pandas as pd\n",
    "from data_lib import landing_dsm as dsm"
   ]
  },
  {
   "cell_type": "code",
   "execution_count": 2,
   "id": "2a59222c-83f0-4284-9f6c-0ff37f934e4f",
   "metadata": {
    "tags": []
   },
   "outputs": [],
   "source": [
    "#pip install psycopg2-binary"
   ]
  },
  {
   "cell_type": "code",
   "execution_count": 3,
   "id": "7120fbda-6523-4a57-9fc5-d628f25212e0",
   "metadata": {
    "tags": []
   },
   "outputs": [],
   "source": [
    "#pip install s3fs --user"
   ]
  },
  {
   "cell_type": "code",
   "execution_count": 4,
   "id": "d8493fb1-4afd-40eb-8fb1-df295dc95365",
   "metadata": {
    "tags": []
   },
   "outputs": [],
   "source": [
    "#pip install triad"
   ]
  },
  {
   "cell_type": "markdown",
   "id": "da216f14-18e1-43ff-b148-70f9c5e5b838",
   "metadata": {},
   "source": [
    "## declear data-source"
   ]
  },
  {
   "cell_type": "code",
   "execution_count": 5,
   "id": "d76b2326-9782-4f3b-b662-7bab4e759665",
   "metadata": {
    "tags": []
   },
   "outputs": [],
   "source": [
    "# Database connection parameters\n",
    "# can add more data source\n",
    "db_params = {\n",
    "    'appliction':'app01',\n",
    "    'source': 'db1',\n",
    "    'dbname': 'chinook',\n",
    "    'user': 'admin',\n",
    "    'password': '1234',\n",
    "    'host': '192.168.28.40',\n",
    "    'port': '5432'\n",
    "}"
   ]
  },
  {
   "cell_type": "markdown",
   "id": "d95d8d94-19a6-4687-9307-c29986998f43",
   "metadata": {},
   "source": [
    "## list table from database and landing data from data-source to landing_zone"
   ]
  },
  {
   "cell_type": "code",
   "execution_count": 6,
   "id": "7337e2e6-8a00-4e43-8622-a0816e4a00ef",
   "metadata": {
    "tags": []
   },
   "outputs": [
    {
     "name": "stdout",
     "output_type": "stream",
     "text": [
      "['artist', 'album', 'employee', 'customer', 'invoice', 'invoice_line', 'track', 'playlist', 'playlist_track', 'genre', 'media_type']\n"
     ]
    }
   ],
   "source": [
    "table = dsm.list_table(db_params=db_params)\n",
    "print(table)"
   ]
  },
  {
   "cell_type": "code",
   "execution_count": 7,
   "id": "d312dc67-d568-4b20-b131-eb11c56fefd7",
   "metadata": {
    "tags": []
   },
   "outputs": [
    {
     "name": "stdout",
     "output_type": "stream",
     "text": [
      "done\n"
     ]
    }
   ],
   "source": [
    "dsm.landing_func(db_params,[\"customer\",\"invoice\",\"invoice_line\"])"
   ]
  },
  {
   "cell_type": "markdown",
   "id": "26766d08-057b-477b-b28e-189b7cd0071d",
   "metadata": {},
   "source": [
    "## example reading some data from landing_zone"
   ]
  },
  {
   "cell_type": "code",
   "execution_count": 8,
   "id": "9298ef4d-2ce8-4ed9-8980-262be0b8612b",
   "metadata": {
    "tags": []
   },
   "outputs": [],
   "source": [
    "dataPath = \"/landing_zone/app01/db1/chinook/customer.parquet\""
   ]
  },
  {
   "cell_type": "code",
   "execution_count": 9,
   "id": "44add463-e737-4a0b-8330-825965cbdde6",
   "metadata": {
    "tags": []
   },
   "outputs": [
    {
     "data": {
      "text/html": [
       "<div>\n",
       "<style scoped>\n",
       "    .dataframe tbody tr th:only-of-type {\n",
       "        vertical-align: middle;\n",
       "    }\n",
       "\n",
       "    .dataframe tbody tr th {\n",
       "        vertical-align: top;\n",
       "    }\n",
       "\n",
       "    .dataframe thead th {\n",
       "        text-align: right;\n",
       "    }\n",
       "</style>\n",
       "<table border=\"1\" class=\"dataframe\">\n",
       "  <thead>\n",
       "    <tr style=\"text-align: right;\">\n",
       "      <th></th>\n",
       "      <th>customer_id</th>\n",
       "      <th>first_name</th>\n",
       "      <th>last_name</th>\n",
       "      <th>company</th>\n",
       "      <th>address</th>\n",
       "      <th>city</th>\n",
       "      <th>state</th>\n",
       "      <th>country</th>\n",
       "      <th>postal_code</th>\n",
       "      <th>phone</th>\n",
       "      <th>fax</th>\n",
       "      <th>email</th>\n",
       "      <th>support_rep_id</th>\n",
       "    </tr>\n",
       "  </thead>\n",
       "  <tbody>\n",
       "    <tr>\n",
       "      <th>0</th>\n",
       "      <td>1</td>\n",
       "      <td>Luís</td>\n",
       "      <td>Gonçalves</td>\n",
       "      <td>Embraer - Empresa Brasileira de Aeronáutica S.A.</td>\n",
       "      <td>Av. Brigadeiro Faria Lima, 2170</td>\n",
       "      <td>São José dos Campos</td>\n",
       "      <td>SP</td>\n",
       "      <td>Brazil</td>\n",
       "      <td>12227-000</td>\n",
       "      <td>+55 (12) 3923-5555</td>\n",
       "      <td>+55 (12) 3923-5566</td>\n",
       "      <td>luisg@embraer.com.br</td>\n",
       "      <td>3</td>\n",
       "    </tr>\n",
       "    <tr>\n",
       "      <th>1</th>\n",
       "      <td>2</td>\n",
       "      <td>Leonie</td>\n",
       "      <td>Köhler</td>\n",
       "      <td>None</td>\n",
       "      <td>Theodor-Heuss-Straße 34</td>\n",
       "      <td>Stuttgart</td>\n",
       "      <td>None</td>\n",
       "      <td>Germany</td>\n",
       "      <td>70174</td>\n",
       "      <td>+49 0711 2842222</td>\n",
       "      <td>None</td>\n",
       "      <td>leonekohler@surfeu.de</td>\n",
       "      <td>5</td>\n",
       "    </tr>\n",
       "    <tr>\n",
       "      <th>2</th>\n",
       "      <td>3</td>\n",
       "      <td>François</td>\n",
       "      <td>Tremblay</td>\n",
       "      <td>None</td>\n",
       "      <td>1498 rue Bélanger</td>\n",
       "      <td>Montréal</td>\n",
       "      <td>QC</td>\n",
       "      <td>Canada</td>\n",
       "      <td>H2G 1A7</td>\n",
       "      <td>+1 (514) 721-4711</td>\n",
       "      <td>None</td>\n",
       "      <td>ftremblay@gmail.com</td>\n",
       "      <td>3</td>\n",
       "    </tr>\n",
       "    <tr>\n",
       "      <th>3</th>\n",
       "      <td>4</td>\n",
       "      <td>Bjørn</td>\n",
       "      <td>Hansen</td>\n",
       "      <td>None</td>\n",
       "      <td>Ullevålsveien 14</td>\n",
       "      <td>Oslo</td>\n",
       "      <td>None</td>\n",
       "      <td>Norway</td>\n",
       "      <td>0171</td>\n",
       "      <td>+47 22 44 22 22</td>\n",
       "      <td>None</td>\n",
       "      <td>bjorn.hansen@yahoo.no</td>\n",
       "      <td>4</td>\n",
       "    </tr>\n",
       "    <tr>\n",
       "      <th>4</th>\n",
       "      <td>5</td>\n",
       "      <td>František</td>\n",
       "      <td>Wichterlová</td>\n",
       "      <td>JetBrains s.r.o.</td>\n",
       "      <td>Klanova 9/506</td>\n",
       "      <td>Prague</td>\n",
       "      <td>None</td>\n",
       "      <td>Czech Republic</td>\n",
       "      <td>14700</td>\n",
       "      <td>+420 2 4172 5555</td>\n",
       "      <td>+420 2 4172 5555</td>\n",
       "      <td>frantisekw@jetbrains.com</td>\n",
       "      <td>4</td>\n",
       "    </tr>\n",
       "  </tbody>\n",
       "</table>\n",
       "</div>"
      ],
      "text/plain": [
       "   customer_id first_name    last_name  \\\n",
       "0            1       Luís    Gonçalves   \n",
       "1            2     Leonie       Köhler   \n",
       "2            3   François     Tremblay   \n",
       "3            4      Bjørn       Hansen   \n",
       "4            5  František  Wichterlová   \n",
       "\n",
       "                                            company  \\\n",
       "0  Embraer - Empresa Brasileira de Aeronáutica S.A.   \n",
       "1                                              None   \n",
       "2                                              None   \n",
       "3                                              None   \n",
       "4                                  JetBrains s.r.o.   \n",
       "\n",
       "                           address                 city state         country  \\\n",
       "0  Av. Brigadeiro Faria Lima, 2170  São José dos Campos    SP          Brazil   \n",
       "1          Theodor-Heuss-Straße 34            Stuttgart  None         Germany   \n",
       "2                1498 rue Bélanger             Montréal    QC          Canada   \n",
       "3                 Ullevålsveien 14                 Oslo  None          Norway   \n",
       "4                    Klanova 9/506               Prague  None  Czech Republic   \n",
       "\n",
       "  postal_code               phone                 fax  \\\n",
       "0   12227-000  +55 (12) 3923-5555  +55 (12) 3923-5566   \n",
       "1       70174    +49 0711 2842222                None   \n",
       "2     H2G 1A7   +1 (514) 721-4711                None   \n",
       "3        0171     +47 22 44 22 22                None   \n",
       "4       14700    +420 2 4172 5555    +420 2 4172 5555   \n",
       "\n",
       "                      email  support_rep_id  \n",
       "0      luisg@embraer.com.br               3  \n",
       "1     leonekohler@surfeu.de               5  \n",
       "2       ftremblay@gmail.com               3  \n",
       "3     bjorn.hansen@yahoo.no               4  \n",
       "4  frantisekw@jetbrains.com               4  "
      ]
     },
     "execution_count": 9,
     "metadata": {},
     "output_type": "execute_result"
    }
   ],
   "source": [
    "ddf = dsm.get_parquet(dataPath)\n",
    "#ddf.groupby(\"country\").count().compute()\n",
    "ddf.head()"
   ]
  },
  {
   "cell_type": "code",
   "execution_count": null,
   "id": "22cee43b-4d7d-4fd6-b1e2-884a746d4981",
   "metadata": {},
   "outputs": [],
   "source": []
  }
 ],
 "metadata": {
  "kernelspec": {
   "display_name": "Python 3 (ipykernel)",
   "language": "python",
   "name": "python3"
  },
  "language_info": {
   "codemirror_mode": {
    "name": "ipython",
    "version": 3
   },
   "file_extension": ".py",
   "mimetype": "text/x-python",
   "name": "python",
   "nbconvert_exporter": "python",
   "pygments_lexer": "ipython3",
   "version": "3.10.10"
  }
 },
 "nbformat": 4,
 "nbformat_minor": 5
}
