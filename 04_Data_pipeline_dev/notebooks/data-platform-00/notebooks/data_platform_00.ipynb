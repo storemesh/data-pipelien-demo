{
 "cells": [
  {
   "cell_type": "markdown",
   "id": "331e2c57-6b81-4102-8cc5-ce3de547f0d8",
   "metadata": {},
   "source": [
    "# practices simple landing data from data-source to landing_zone"
   ]
  },
  {
   "cell_type": "markdown",
   "id": "228da1c0-b53a-4c1d-b7fa-84cc243f6247",
   "metadata": {},
   "source": [
    "## import library"
   ]
  },
  {
   "cell_type": "code",
   "execution_count": 1,
   "id": "66ab2284-a1ff-44f5-8c2c-fa200a9a7ff4",
   "metadata": {
    "tags": []
   },
   "outputs": [],
   "source": [
    "import dask.dataframe as dd\n",
    "import pandas as pd\n",
    "from data_lib import landing_dsm as dsm"
   ]
  },
  {
   "cell_type": "code",
   "execution_count": 2,
   "id": "2a59222c-83f0-4284-9f6c-0ff37f934e4f",
   "metadata": {
    "tags": []
   },
   "outputs": [],
   "source": [
    "#pip install psycopg2-binary"
   ]
  },
  {
   "cell_type": "code",
   "execution_count": 3,
   "id": "7120fbda-6523-4a57-9fc5-d628f25212e0",
   "metadata": {
    "tags": []
   },
   "outputs": [],
   "source": [
    "#pip install s3fs --user"
   ]
  },
  {
   "cell_type": "code",
   "execution_count": 4,
   "id": "d8493fb1-4afd-40eb-8fb1-df295dc95365",
   "metadata": {
    "tags": []
   },
   "outputs": [],
   "source": [
    "#pip install triad"
   ]
  },
  {
   "cell_type": "markdown",
   "id": "da216f14-18e1-43ff-b148-70f9c5e5b838",
   "metadata": {},
   "source": [
    "## declear data-source"
   ]
  },
  {
   "cell_type": "code",
   "execution_count": 5,
   "id": "d76b2326-9782-4f3b-b662-7bab4e759665",
   "metadata": {
    "tags": []
   },
   "outputs": [],
   "source": [
    "# Database connection parameters\n",
    "# can add more data source\n",
    "db_params = {\n",
    "    'appliction':'app01',\n",
    "    'source': 'db1',\n",
    "    'dbname': 'chinook',\n",
    "    'user': 'admin',\n",
    "    'password': '1234',\n",
    "    'host': '192.168.28.40',\n",
    "    'port': '5432'\n",
    "}"
   ]
  },
  {
   "cell_type": "markdown",
   "id": "d95d8d94-19a6-4687-9307-c29986998f43",
   "metadata": {},
   "source": [
    "## list table from database and landing data from data-source to landing_zone"
   ]
  },
  {
   "cell_type": "code",
   "execution_count": null,
   "id": "7337e2e6-8a00-4e43-8622-a0816e4a00ef",
   "metadata": {
    "tags": []
   },
   "outputs": [],
   "source": [
    "table = dsm.list_table(db_params=db_params)\n",
    "print(table)"
   ]
  },
  {
   "cell_type": "code",
   "execution_count": null,
   "id": "d312dc67-d568-4b20-b131-eb11c56fefd7",
   "metadata": {
    "tags": []
   },
   "outputs": [],
   "source": [
    "dsm.landing_func(db_params,[\"customer\",\"invoice\",\"invoice_line\"])"
   ]
  },
  {
   "cell_type": "markdown",
   "id": "26766d08-057b-477b-b28e-189b7cd0071d",
   "metadata": {},
   "source": [
    "## example reading some data from landing_zone"
   ]
  },
  {
   "cell_type": "code",
   "execution_count": null,
   "id": "9298ef4d-2ce8-4ed9-8980-262be0b8612b",
   "metadata": {
    "tags": []
   },
   "outputs": [],
   "source": [
    "dataPath = \"/landing_zone/app01/db1/chinook/customer.parquet\""
   ]
  },
  {
   "cell_type": "code",
   "execution_count": null,
   "id": "44add463-e737-4a0b-8330-825965cbdde6",
   "metadata": {
    "tags": []
   },
   "outputs": [],
   "source": [
    "ddf = dsm.get_parquet(dataPath)\n",
    "#ddf.groupby(\"country\").count().compute()\n",
    "ddf.head()"
   ]
  },
  {
   "cell_type": "code",
   "execution_count": null,
   "id": "22cee43b-4d7d-4fd6-b1e2-884a746d4981",
   "metadata": {},
   "outputs": [],
   "source": []
  }
 ],
 "metadata": {
  "kernelspec": {
   "display_name": "Python 3 (ipykernel)",
   "language": "python",
   "name": "python3"
  },
  "language_info": {
   "codemirror_mode": {
    "name": "ipython",
    "version": 3
   },
   "file_extension": ".py",
   "mimetype": "text/x-python",
   "name": "python",
   "nbconvert_exporter": "python",
   "pygments_lexer": "ipython3",
   "version": "3.12.6"
  }
 },
 "nbformat": 4,
 "nbformat_minor": 5
}
