{
 "cells": [
  {
   "cell_type": "markdown",
   "id": "43183b36-1c35-46ae-924e-0f38ec439c45",
   "metadata": {},
   "source": [
    "# Test case for validate data with Monad"
   ]
  },
  {
   "cell_type": "markdown",
   "id": "3028fdde-d3e5-48ca-abf3-ba385ab5dde1",
   "metadata": {},
   "source": [
    "## import library"
   ]
  },
  {
   "cell_type": "code",
   "execution_count": 1,
   "id": "82b3c07b-300d-447f-8ab1-9be027a6c29e",
   "metadata": {
    "tags": []
   },
   "outputs": [],
   "source": [
    "import pandas as pd\n",
    "from data_lib import Monad as mo"
   ]
  },
  {
   "cell_type": "markdown",
   "id": "7f6bfdfb-ab83-43ec-8c33-cb41cf282636",
   "metadata": {},
   "source": [
    "## Prepare data that you want to validate and master data for checking"
   ]
  },
  {
   "cell_type": "code",
   "execution_count": 2,
   "id": "9e21818c-2b03-4c6c-b0a1-8daa1117b6d0",
   "metadata": {
    "tags": []
   },
   "outputs": [
    {
     "data": {
      "text/html": [
       "<div>\n",
       "<style scoped>\n",
       "    .dataframe tbody tr th:only-of-type {\n",
       "        vertical-align: middle;\n",
       "    }\n",
       "\n",
       "    .dataframe tbody tr th {\n",
       "        vertical-align: top;\n",
       "    }\n",
       "\n",
       "    .dataframe thead th {\n",
       "        text-align: right;\n",
       "    }\n",
       "</style>\n",
       "<table border=\"1\" class=\"dataframe\">\n",
       "  <thead>\n",
       "    <tr style=\"text-align: right;\">\n",
       "      <th></th>\n",
       "      <th>countryName</th>\n",
       "      <th>city</th>\n",
       "    </tr>\n",
       "  </thead>\n",
       "  <tbody>\n",
       "    <tr>\n",
       "      <th>0</th>\n",
       "      <td>INDIA</td>\n",
       "      <td>MAHARASTRA STAYTE</td>\n",
       "    </tr>\n",
       "    <tr>\n",
       "      <th>1</th>\n",
       "      <td>ARMENIA</td>\n",
       "      <td>d</td>\n",
       "    </tr>\n",
       "    <tr>\n",
       "      <th>2</th>\n",
       "      <td>BURKINA FASO</td>\n",
       "      <td>Banfora</td>\n",
       "    </tr>\n",
       "    <tr>\n",
       "      <th>3</th>\n",
       "      <td>PHILIPPINES</td>\n",
       "      <td>Sta.Rosa, Laguna</td>\n",
       "    </tr>\n",
       "    <tr>\n",
       "      <th>4</th>\n",
       "      <td>CHINA</td>\n",
       "      <td>Wuxi/jiangsu</td>\n",
       "    </tr>\n",
       "  </tbody>\n",
       "</table>\n",
       "</div>"
      ],
      "text/plain": [
       "    countryName               city\n",
       "0         INDIA  MAHARASTRA STAYTE\n",
       "1       ARMENIA                  d\n",
       "2  BURKINA FASO           Banfora \n",
       "3   PHILIPPINES   Sta.Rosa, Laguna\n",
       "4         CHINA       Wuxi/jiangsu"
      ]
     },
     "execution_count": 2,
     "metadata": {},
     "output_type": "execute_result"
    }
   ],
   "source": [
    "df = pd.read_parquet(\"dataset/trade_view_registration_case_for_prince.parquet\")\n",
    "# df[\"countryName\"].unique()\n",
    "df.head()"
   ]
  },
  {
   "cell_type": "code",
   "execution_count": 3,
   "id": "f1ee2de6-9e71-4dd5-91d1-eaa365a19e8e",
   "metadata": {
    "tags": []
   },
   "outputs": [
    {
     "data": {
      "text/html": [
       "<div>\n",
       "<style scoped>\n",
       "    .dataframe tbody tr th:only-of-type {\n",
       "        vertical-align: middle;\n",
       "    }\n",
       "\n",
       "    .dataframe tbody tr th {\n",
       "        vertical-align: top;\n",
       "    }\n",
       "\n",
       "    .dataframe thead th {\n",
       "        text-align: right;\n",
       "    }\n",
       "</style>\n",
       "<table border=\"1\" class=\"dataframe\">\n",
       "  <thead>\n",
       "    <tr style=\"text-align: right;\">\n",
       "      <th></th>\n",
       "      <th>global_code</th>\n",
       "      <th>global_name</th>\n",
       "      <th>region_code</th>\n",
       "      <th>region_name</th>\n",
       "      <th>sub_region_code</th>\n",
       "      <th>sub_region_name</th>\n",
       "      <th>intermediate_region_code</th>\n",
       "      <th>intermediate_region_name</th>\n",
       "      <th>country_or_area</th>\n",
       "      <th>m49_code</th>\n",
       "      <th>iso_alpha2_code</th>\n",
       "      <th>iso_alpha3_code</th>\n",
       "      <th>year</th>\n",
       "      <th>id</th>\n",
       "    </tr>\n",
       "  </thead>\n",
       "  <tbody>\n",
       "    <tr>\n",
       "      <th>0</th>\n",
       "      <td>001</td>\n",
       "      <td>World</td>\n",
       "      <td>142</td>\n",
       "      <td>Asia</td>\n",
       "      <td>034</td>\n",
       "      <td>Southern Asia</td>\n",
       "      <td>000</td>\n",
       "      <td></td>\n",
       "      <td>Afghanistan</td>\n",
       "      <td>004</td>\n",
       "      <td>AF</td>\n",
       "      <td>AFG</td>\n",
       "      <td>2023</td>\n",
       "      <td>2023AFG</td>\n",
       "    </tr>\n",
       "    <tr>\n",
       "      <th>1</th>\n",
       "      <td>001</td>\n",
       "      <td>World</td>\n",
       "      <td>150</td>\n",
       "      <td>Europe</td>\n",
       "      <td>039</td>\n",
       "      <td>Southern Europe</td>\n",
       "      <td>000</td>\n",
       "      <td></td>\n",
       "      <td>Albania</td>\n",
       "      <td>008</td>\n",
       "      <td>AL</td>\n",
       "      <td>ALB</td>\n",
       "      <td>2023</td>\n",
       "      <td>2023ALB</td>\n",
       "    </tr>\n",
       "    <tr>\n",
       "      <th>2</th>\n",
       "      <td>001</td>\n",
       "      <td>World</td>\n",
       "      <td>000</td>\n",
       "      <td></td>\n",
       "      <td>000</td>\n",
       "      <td></td>\n",
       "      <td>000</td>\n",
       "      <td></td>\n",
       "      <td>Antarctica</td>\n",
       "      <td>010</td>\n",
       "      <td>AQ</td>\n",
       "      <td>ATA</td>\n",
       "      <td>2023</td>\n",
       "      <td>2023ATA</td>\n",
       "    </tr>\n",
       "    <tr>\n",
       "      <th>3</th>\n",
       "      <td>001</td>\n",
       "      <td>World</td>\n",
       "      <td>002</td>\n",
       "      <td>Africa</td>\n",
       "      <td>015</td>\n",
       "      <td>Northern Africa</td>\n",
       "      <td>000</td>\n",
       "      <td></td>\n",
       "      <td>Algeria</td>\n",
       "      <td>012</td>\n",
       "      <td>DZ</td>\n",
       "      <td>DZA</td>\n",
       "      <td>2023</td>\n",
       "      <td>2023DZA</td>\n",
       "    </tr>\n",
       "    <tr>\n",
       "      <th>4</th>\n",
       "      <td>001</td>\n",
       "      <td>World</td>\n",
       "      <td>009</td>\n",
       "      <td>Oceania</td>\n",
       "      <td>061</td>\n",
       "      <td>Polynesia</td>\n",
       "      <td>000</td>\n",
       "      <td></td>\n",
       "      <td>American Samoa</td>\n",
       "      <td>016</td>\n",
       "      <td>AS</td>\n",
       "      <td>ASM</td>\n",
       "      <td>2023</td>\n",
       "      <td>2023ASM</td>\n",
       "    </tr>\n",
       "  </tbody>\n",
       "</table>\n",
       "</div>"
      ],
      "text/plain": [
       "  global_code global_name region_code region_name sub_region_code  \\\n",
       "0         001       World         142        Asia             034   \n",
       "1         001       World         150      Europe             039   \n",
       "2         001       World         000                         000   \n",
       "3         001       World         002      Africa             015   \n",
       "4         001       World         009     Oceania             061   \n",
       "\n",
       "   sub_region_name intermediate_region_code intermediate_region_name  \\\n",
       "0    Southern Asia                      000                            \n",
       "1  Southern Europe                      000                            \n",
       "2                                       000                            \n",
       "3  Northern Africa                      000                            \n",
       "4        Polynesia                      000                            \n",
       "\n",
       "  country_or_area m49_code iso_alpha2_code iso_alpha3_code  year       id  \n",
       "0     Afghanistan      004              AF             AFG  2023  2023AFG  \n",
       "1         Albania      008              AL             ALB  2023  2023ALB  \n",
       "2      Antarctica      010              AQ             ATA  2023  2023ATA  \n",
       "3         Algeria      012              DZ             DZA  2023  2023DZA  \n",
       "4  American Samoa      016              AS             ASM  2023  2023ASM  "
      ]
     },
     "execution_count": 3,
     "metadata": {},
     "output_type": "execute_result"
    }
   ],
   "source": [
    "master = pd.read_parquet(\"https://github.com/storemesh/masterdata/raw/django-app/master-area_20230810.parquet\")\n",
    "master.head()"
   ]
  },
  {
   "cell_type": "code",
   "execution_count": 4,
   "id": "539e086e-68f5-474c-9708-61d0ba534f75",
   "metadata": {
    "tags": []
   },
   "outputs": [
    {
     "name": "stdout",
     "output_type": "stream",
     "text": [
      "The master data has : 248 records\n"
     ]
    }
   ],
   "source": [
    "master.dropna(subset='iso_alpha2_code',inplace=True)\n",
    "master_dict = master[[\"country_or_area\",\"iso_alpha2_code\"]].to_dict(\"records\")\n",
    "master_dict = {elm.get(\"country_or_area\").lower():elm.get(\"iso_alpha2_code\") for elm in master_dict}\n",
    "print(f\"The master data has : {len(master_dict)} records\")"
   ]
  },
  {
   "cell_type": "markdown",
   "id": "ac4cf592-765f-4c19-9c0e-6c648a818012",
   "metadata": {
    "tags": []
   },
   "source": [
    "## Check column name 'countryName' in df dataframe"
   ]
  },
  {
   "cell_type": "code",
   "execution_count": 5,
   "id": "2536d485-a60d-4d1a-8a77-8c4bd84b8833",
   "metadata": {
    "tags": []
   },
   "outputs": [],
   "source": [
    "df_result = mo.check_countryName(df,'countryName')\n",
    "df_result_explode = mo.explode_result(df_result,'countryName')\n",
    "df_fail = mo.get_dirty(df_result_explode)"
   ]
  },
  {
   "cell_type": "code",
   "execution_count": 6,
   "id": "cd39e083-1731-41c2-b058-f14893e76693",
   "metadata": {
    "tags": []
   },
   "outputs": [
    {
     "data": {
      "text/html": [
       "<div>\n",
       "<style scoped>\n",
       "    .dataframe tbody tr th:only-of-type {\n",
       "        vertical-align: middle;\n",
       "    }\n",
       "\n",
       "    .dataframe tbody tr th {\n",
       "        vertical-align: top;\n",
       "    }\n",
       "\n",
       "    .dataframe thead th {\n",
       "        text-align: right;\n",
       "    }\n",
       "</style>\n",
       "<table border=\"1\" class=\"dataframe\">\n",
       "  <thead>\n",
       "    <tr style=\"text-align: right;\">\n",
       "      <th></th>\n",
       "      <th>country</th>\n",
       "      <th>error_count</th>\n",
       "    </tr>\n",
       "  </thead>\n",
       "  <tbody>\n",
       "    <tr>\n",
       "      <th>0</th>\n",
       "      <td>GUINEA  ( GUINEE )</td>\n",
       "      <td>302</td>\n",
       "    </tr>\n",
       "    <tr>\n",
       "      <th>1</th>\n",
       "      <td>BRUNEI</td>\n",
       "      <td>182</td>\n",
       "    </tr>\n",
       "    <tr>\n",
       "      <th>2</th>\n",
       "      <td>CZECH REPUBLIC</td>\n",
       "      <td>158</td>\n",
       "    </tr>\n",
       "    <tr>\n",
       "      <th>3</th>\n",
       "      <td>TANZANIA</td>\n",
       "      <td>122</td>\n",
       "    </tr>\n",
       "    <tr>\n",
       "      <th>4</th>\n",
       "      <td>REUNION</td>\n",
       "      <td>100</td>\n",
       "    </tr>\n",
       "  </tbody>\n",
       "</table>\n",
       "</div>"
      ],
      "text/plain": [
       "              country error_count\n",
       "0  GUINEA  ( GUINEE )         302\n",
       "1              BRUNEI         182\n",
       "2      CZECH REPUBLIC         158\n",
       "3            TANZANIA         122\n",
       "4             REUNION         100"
      ]
     },
     "execution_count": 6,
     "metadata": {},
     "output_type": "execute_result"
    }
   ],
   "source": [
    "test = df_fail.groupby(\"input\").size().sort_values(ascending=False)\n",
    "er_df = pd.DataFrame([test.index,test.values],[\"country\",\"error_count\"]).T\n",
    "er_df.head()"
   ]
  },
  {
   "cell_type": "code",
   "execution_count": 7,
   "id": "5ccc0274-67d5-4358-9bb9-4c5f8f4bfb54",
   "metadata": {
    "tags": []
   },
   "outputs": [],
   "source": [
    "# place for experiments"
   ]
  },
  {
   "cell_type": "markdown",
   "id": "ccf99f90-ec54-4c37-8850-412209779b81",
   "metadata": {
    "jp-MarkdownHeadingCollapsed": true,
    "tags": []
   },
   "source": [
    "## Note"
   ]
  },
  {
   "cell_type": "code",
   "execution_count": 8,
   "id": "7e4280e7-9f23-4d71-b46c-a971404c8e10",
   "metadata": {
    "tags": []
   },
   "outputs": [],
   "source": [
    "# df_result = mo.check_countryName(df,'countryName')\n",
    "# df_result"
   ]
  },
  {
   "cell_type": "code",
   "execution_count": 9,
   "id": "2e7eaa4b-e417-44ae-9cb2-d961d145e1bb",
   "metadata": {
    "tags": []
   },
   "outputs": [],
   "source": [
    "# df_result_explode = mo.explode_result(df_result,'countryName')\n",
    "# df_result_explode"
   ]
  },
  {
   "cell_type": "code",
   "execution_count": 10,
   "id": "29e4086f-8e07-4ad7-a4fa-902f7d548ed1",
   "metadata": {
    "tags": []
   },
   "outputs": [],
   "source": [
    "# df_fail = mo.get_dirty(df_result_explode)\n",
    "# df_fail"
   ]
  }
 ],
 "metadata": {
  "kernelspec": {
   "display_name": "Python 3 (ipykernel)",
   "language": "python",
   "name": "python3"
  },
  "language_info": {
   "codemirror_mode": {
    "name": "ipython",
    "version": 3
   },
   "file_extension": ".py",
   "mimetype": "text/x-python",
   "name": "python",
   "nbconvert_exporter": "python",
   "pygments_lexer": "ipython3",
   "version": "3.10.10"
  }
 },
 "nbformat": 4,
 "nbformat_minor": 5
}
