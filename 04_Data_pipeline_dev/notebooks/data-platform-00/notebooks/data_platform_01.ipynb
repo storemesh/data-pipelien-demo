{
 "cells": [
  {
   "cell_type": "markdown",
   "id": "bd33266a-9f8a-46a2-a91f-115f714074e0",
   "metadata": {},
   "source": [
    "# more sample about implement fro advanced landing from multi data-source"
   ]
  },
  {
   "cell_type": "markdown",
   "id": "4fff8c9f-a048-43b1-af81-2c94e138e317",
   "metadata": {},
   "source": [
    "## import library"
   ]
  },
  {
   "cell_type": "code",
   "execution_count": 1,
   "id": "66ab2284-a1ff-44f5-8c2c-fa200a9a7ff4",
   "metadata": {
    "tags": []
   },
   "outputs": [],
   "source": [
    "import dask.dataframe as dd\n",
    "import pandas as pd\n",
    "from data_lib import landing_dsm as dsm"
   ]
  },
  {
   "cell_type": "markdown",
   "id": "f3407b35-ee93-4d5f-8cfc-f140ad53b7df",
   "metadata": {},
   "source": [
    "## declear data-source"
   ]
  },
  {
   "cell_type": "code",
   "execution_count": 2,
   "id": "d76b2326-9782-4f3b-b662-7bab4e759665",
   "metadata": {
    "tags": []
   },
   "outputs": [],
   "source": [
    "# Database connection parameters\n",
    "db_params = [{\n",
    "    'appliction':'app01',\n",
    "    'source':'db1',\n",
    "    'dbname': 'chinook',\n",
    "    'user': 'admin',\n",
    "    'password': '1234',\n",
    "    'host': '192.168.28.40',\n",
    "    'port': '5432'\n",
    "    },\n",
    "    {\n",
    "    'appliction':'app01',\n",
    "    'source':'db2',\n",
    "    'dbname': 'northwind',\n",
    "    'user': 'admin',\n",
    "    'password': '1234',\n",
    "    'host': '192.168.28.40',\n",
    "    'port': '5432'\n",
    "    }\n",
    "]"
   ]
  },
  {
   "cell_type": "markdown",
   "id": "54e8ae4b-28a1-4e78-9f2a-1ea1f8faaadd",
   "metadata": {},
   "source": [
    "## list table from data-source and landing some table"
   ]
  },
  {
   "cell_type": "code",
   "execution_count": 3,
   "id": "2cf86da1-88a4-4b49-b118-418e24310eb5",
   "metadata": {
    "tags": []
   },
   "outputs": [
    {
     "name": "stdout",
     "output_type": "stream",
     "text": [
      "database chinook has table : 11 table\n",
      "done\n",
      "database northwind has table : 14 table\n",
      "done\n"
     ]
    }
   ],
   "source": [
    "tables = []\n",
    "for db in db_params:\n",
    "    \n",
    "    db_name = db[\"dbname\"]\n",
    "    table = dsm.list_table(db_params=db)\n",
    "    \n",
    "    print(f\"database {db_name} has table : {len(table)} table\")\n",
    "    \n",
    "    dsm.landing_func(db,table[3:6])"
   ]
  },
  {
   "cell_type": "code",
   "execution_count": 4,
   "id": "9298ef4d-2ce8-4ed9-8980-262be0b8612b",
   "metadata": {
    "tags": []
   },
   "outputs": [],
   "source": [
    "dataPath = \"/landing_zone/app01/db2/northwind/territories.parquet\""
   ]
  },
  {
   "cell_type": "code",
   "execution_count": 5,
   "id": "44add463-e737-4a0b-8330-825965cbdde6",
   "metadata": {
    "tags": []
   },
   "outputs": [
    {
     "data": {
      "text/html": [
       "<div>\n",
       "<style scoped>\n",
       "    .dataframe tbody tr th:only-of-type {\n",
       "        vertical-align: middle;\n",
       "    }\n",
       "\n",
       "    .dataframe tbody tr th {\n",
       "        vertical-align: top;\n",
       "    }\n",
       "\n",
       "    .dataframe thead th {\n",
       "        text-align: right;\n",
       "    }\n",
       "</style>\n",
       "<table border=\"1\" class=\"dataframe\">\n",
       "  <thead>\n",
       "    <tr style=\"text-align: right;\">\n",
       "      <th></th>\n",
       "      <th>territory_id</th>\n",
       "      <th>territory_description</th>\n",
       "      <th>region_id</th>\n",
       "    </tr>\n",
       "  </thead>\n",
       "  <tbody>\n",
       "    <tr>\n",
       "      <th>0</th>\n",
       "      <td>01581</td>\n",
       "      <td>Westboro</td>\n",
       "      <td>1</td>\n",
       "    </tr>\n",
       "    <tr>\n",
       "      <th>1</th>\n",
       "      <td>01730</td>\n",
       "      <td>Bedford</td>\n",
       "      <td>1</td>\n",
       "    </tr>\n",
       "    <tr>\n",
       "      <th>2</th>\n",
       "      <td>01833</td>\n",
       "      <td>Georgetow</td>\n",
       "      <td>1</td>\n",
       "    </tr>\n",
       "    <tr>\n",
       "      <th>3</th>\n",
       "      <td>02116</td>\n",
       "      <td>Boston</td>\n",
       "      <td>1</td>\n",
       "    </tr>\n",
       "    <tr>\n",
       "      <th>4</th>\n",
       "      <td>02139</td>\n",
       "      <td>Cambridge</td>\n",
       "      <td>1</td>\n",
       "    </tr>\n",
       "  </tbody>\n",
       "</table>\n",
       "</div>"
      ],
      "text/plain": [
       "  territory_id territory_description  region_id\n",
       "0        01581              Westboro          1\n",
       "1        01730               Bedford          1\n",
       "2        01833             Georgetow          1\n",
       "3        02116                Boston          1\n",
       "4        02139             Cambridge          1"
      ]
     },
     "execution_count": 5,
     "metadata": {},
     "output_type": "execute_result"
    }
   ],
   "source": [
    "ddf = dsm.get_parquet(dataPath)\n",
    "ddf.head()"
   ]
  }
 ],
 "metadata": {
  "kernelspec": {
   "display_name": "Python 3 (ipykernel)",
   "language": "python",
   "name": "python3"
  },
  "language_info": {
   "codemirror_mode": {
    "name": "ipython",
    "version": 3
   },
   "file_extension": ".py",
   "mimetype": "text/x-python",
   "name": "python",
   "nbconvert_exporter": "python",
   "pygments_lexer": "ipython3",
   "version": "3.10.10"
  }
 },
 "nbformat": 4,
 "nbformat_minor": 5
}
